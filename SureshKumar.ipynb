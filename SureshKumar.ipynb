{
 "cells": [
  {
   "cell_type": "code",
   "execution_count": null,
   "id": "9191badd-7abb-41db-87a5-6573e40390fb",
   "metadata": {},
   "outputs": [],
   "source": []
  },
  {
   "cell_type": "code",
   "execution_count": null,
   "id": "79750f0d-703b-47f7-8eef-b66e95ba13c4",
   "metadata": {},
   "outputs": [],
   "source": [
    "import matplotlib.pyplot as plt\n",
    "\n",
    "# Example data: Vaccination rates by year\n",
    "years = [2010, 2011, 2012, 2013, 2014]\n",
    "vaccination_rates = [90, 91, 92, 93, 94]\n",
    "\n",
    "# Create a line chart to visualize vaccination rates over the years\n",
    "plt.figure(figsize=(8, 5))\n",
    "plt.plot(years, vaccination_rates, marker='o', linestyle='-', color='b')\n",
    "plt.title('Vaccination Rates Over the Years')\n",
    "plt.xlabel('Year')\n",
    "plt.ylabel('Vaccination Rate (%)')\n",
    "plt.grid(True)\n",
    "\n",
    "# Add labels to data points\n",
    "for i in range(len(years)):\n",
    "    plt.annotate(f'{vaccination_rates[i]}%', (years[i], vaccination_rates[i]), textcoords=\"offset points\", xytext=(0,10), ha='center')\n",
    "\n",
    "# Save or display the chart\n",
    "plt.savefig('vaccination_rates.png')  # Save the chart as an image\n",
    "plt.show()  # Display the chart\n",
    "\n",
    "# You can also add code to share the chart on a website or social media platform\n"
   ]
  }
 ],
 "metadata": {
  "kernelspec": {
   "display_name": "anaconda-panel-2023.05-py310",
   "language": "python",
   "name": "conda-env-anaconda-panel-2023.05-py310-py"
  },
  "language_info": {
   "codemirror_mode": {
    "name": "ipython",
    "version": 3
   },
   "file_extension": ".py",
   "mimetype": "text/x-python",
   "name": "python",
   "nbconvert_exporter": "python",
   "pygments_lexer": "ipython3",
   "version": "3.11.4"
  }
 },
 "nbformat": 4,
 "nbformat_minor": 5
}
